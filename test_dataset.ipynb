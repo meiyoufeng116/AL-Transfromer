{
 "cells": [
  {
   "cell_type": "code",
   "execution_count": 18,
   "metadata": {
    "collapsed": true
   },
   "outputs": [],
   "source": [
    "import pickle\n",
    "\n",
    "def read_dataset(path):\n",
    "    pkl_file = open(path, 'rb')\n",
    "    return pickle.load(pkl_file)"
   ]
  },
  {
   "cell_type": "code",
   "execution_count": 20,
   "metadata": {
    "pycharm": {
     "name": "#%%\n"
    }
   },
   "outputs": [
    {
     "name": "stdout",
     "output_type": "stream",
     "text": [
      "torch.bool\n"
     ]
    }
   ],
   "source": [
    "# Glucose dataset\n",
    "dataset, mask = read_dataset('datasets/dataset.pkl')\n",
    "# dataset 3,1869,50\n",
    "# mask 1869,3,50\n",
    "print(mask.dtype)"
   ]
  },
  {
   "cell_type": "code",
   "execution_count": 16,
   "metadata": {
    "pycharm": {
     "name": "#%%\n"
    }
   },
   "outputs": [
    {
     "name": "stdout",
     "output_type": "stream",
     "text": [
      "torch.Size([3, 40, 46])\n"
     ]
    }
   ],
   "source": [
    "import torch\n",
    "def dataset_split(data, mask):  #data == tensor   mask == torch    b t input\n",
    "    train_data = data.permute(1,0,2)[:40].permute(1,0,2)\n",
    "    train_mask = mask.permute(1,0,2)[:40].permute(1,0,2)\n",
    "    valid_data = data.permute(1,0,2)[40:50].permute(1,0,2)\n",
    "    valid_mask = mask.permute(1,0,2)[40:50].permute(1,0,2)\n",
    "    test_data = data.permute(1,0,2)[50:].permute(1,0,2)\n",
    "    test_mask = mask.permute(1,0,2)[50:].permute(1,0,2)\n",
    "\n",
    "    train_data = train_data.permute(2,1,0)[3:53]\n",
    "    train_mask = train_mask.permute(2,1,0)[3:53]\n",
    "    valid_data = valid_data.permute(2,1,0)[3:53]\n",
    "    valid_mask = valid_mask.permute(2,1,0)[3:53]\n",
    "    test_data = test_data.permute(2,1,0)[3:53]\n",
    "    test_mask = test_mask.permute(2,1,0)[3:53]  # input b t\n",
    "\n",
    "    train_data = train_data[torch.arange(train_data.size(0))!=36]\n",
    "    train_mask = train_mask[torch.arange(train_mask.size(0))!=36]\n",
    "    valid_data = valid_data[torch.arange(valid_data.size(0))!=36]\n",
    "    valid_mask = valid_mask[torch.arange(valid_mask.size(0))!=36]\n",
    "    test_data = test_data[torch.arange(test_data.size(0))!=36]\n",
    "    test_mask = test_mask[torch.arange(test_mask.size(0))!=36]\n",
    "\n",
    "    train_data = train_data.permute(2,1,0)\n",
    "    train_mask = train_mask.permute(2,1,0)\n",
    "    valid_data = valid_data.permute(2,1,0)\n",
    "    valid_mask = valid_mask.permute(2,1,0)\n",
    "    test_data = test_data.permute(2,1,0)\n",
    "    test_mask = test_mask.permute(2,1,0)\n",
    "    return train_data, train_mask, valid_data, valid_mask, test_data, test_mask\n",
    "train_data, train_mask, valid_data, valid_mask, test_data, test_mask = dataset_split(dataset, mask) # b t input\n",
    "print(train_data.shape)"
   ]
  },
  {
   "cell_type": "code",
   "execution_count": 17,
   "metadata": {
    "pycharm": {
     "name": "#%%\n"
    }
   },
   "outputs": [
    {
     "name": "stdout",
     "output_type": "stream",
     "text": [
      "torch.Size([3, 10, 46])\n",
      "torch.Size([3, 1819, 46])\n"
     ]
    }
   ],
   "source": [
    "print(valid_data.shape)\n",
    "print(test_data.shape)"
   ]
  }
 ],
 "metadata": {
  "kernelspec": {
   "display_name": "Python 3.8.8 ('base')",
   "language": "python",
   "name": "python3"
  },
  "language_info": {
   "codemirror_mode": {
    "name": "ipython",
    "version": 3
   },
   "file_extension": ".py",
   "mimetype": "text/x-python",
   "name": "python",
   "nbconvert_exporter": "python",
   "pygments_lexer": "ipython3",
   "version": "3.8.8"
  },
  "vscode": {
   "interpreter": {
    "hash": "ad2bdc8ecc057115af97d19610ffacc2b4e99fae6737bb82f5d7fb13d2f2c186"
   }
  }
 },
 "nbformat": 4,
 "nbformat_minor": 1
}
